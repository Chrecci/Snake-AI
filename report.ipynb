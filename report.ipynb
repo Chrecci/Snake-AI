{
 "cells": [
  {
   "cell_type": "code",
   "execution_count": 1,
   "metadata": {},
   "outputs": [],
   "source": [
    "import argparse\n",
    "import time\n",
    "from snake.game import Game, GameConf, GameMode\n",
    "\n",
    "\n",
    "dict_solver = {\n",
    "    \"greedy\": \"GreedySolver\",\n",
    "    \"hamilton\": \"HamiltonSolver\",\n",
    "    'astar': \"AStarSolver\"\n",
    "}\n",
    "\n",
    "dict_mode = {\n",
    "    \"normal\": GameMode.NORMAL,\n",
    "    \"bcmk\": GameMode.BENCHMARK,\n",
    "}"
   ]
  },
  {
   "cell_type": "code",
   "execution_count": 6,
   "metadata": {},
   "outputs": [
    {
     "name": "stdout",
     "output_type": "stream",
     "text": [
      "Solver: AStarSolver    Mode: GameMode.BENCHMARK\n",
      "\n",
      "Map size: 10x10\n",
      "Solver: astar\n",
      "\n",
      "Episode 1 - DEAD (len: 34 | steps: 215 | max frontier: 19)\n",
      "Episode 2 - DEAD (len: 25 | steps: 143 | max frontier: 20)\n",
      "Episode 3 - DEAD (len: 26 | steps: 186 | max frontier: 22)\n",
      "Episode 4 - DEAD (len: 29 | steps: 217 | max frontier: 22)\n",
      "Episode 5 - DEAD (len: 23 | steps: 113 | max frontier: 17)\n",
      "Episode 6 - DEAD (len: 27 | steps: 159 | max frontier: 19)\n",
      "Episode 7 - DEAD (len: 29 | steps: 194 | max frontier: 23)\n",
      "Episode 8 - DEAD (len: 24 | steps: 126 | max frontier: 29)\n",
      "Episode 9 - DEAD (len: 19 | steps: 99 | max frontier: 21)\n",
      "Episode 10 - DEAD (len: 25 | steps: 191 | max frontier: 22)\n",
      "\n",
      "[Summary]\n",
      "Average Length: 26.10\n",
      "Average Steps: 164.30\n",
      "\n",
      "Average Max Frontier: 21.40\n",
      "[26.1, 164.3, 21.4]\n",
      "Solver: GreedySolver    Mode: GameMode.BENCHMARK\n",
      "{'_map': <snake.base.map.Map object at 0x000002A2F9613FD0>, '_init_direc': <Direc.RIGHT: 3>, '_init_bodies': [Pos(1,4), Pos(1,3), Pos(1,2), Pos(1,1)], '_init_types': [<PointType.HEAD_R: 102>, <PointType.BODY_HOR: 108>, <PointType.BODY_HOR: 108>, <PointType.BODY_HOR: 108>], '_steps': 0, '_maxfrontier': 0, '_dead': False, '_direc': <Direc.RIGHT: 3>, '_direc_next': <Direc.NONE: 0>, '_bodies': deque([Pos(1,4), Pos(1,3), Pos(1,2), Pos(1,1)])}\n",
      "\n",
      "Map size: 10x10\n",
      "Solver: greedy\n",
      "\n",
      "Episode 1 - DEAD (len: 19 | steps: 94 | max frontier: 18)\n",
      "Episode 2 - DEAD (len: 32 | steps: 206 | max frontier: 17)\n",
      "Episode 3 - DEAD (len: 21 | steps: 138 | max frontier: 18)\n",
      "Episode 4 - DEAD (len: 17 | steps: 75 | max frontier: 19)\n",
      "Episode 5 - DEAD (len: 19 | steps: 126 | max frontier: 18)\n",
      "Episode 6 - DEAD (len: 26 | steps: 171 | max frontier: 15)\n",
      "Episode 7 - DEAD (len: 30 | steps: 229 | max frontier: 17)\n",
      "Episode 8 - DEAD (len: 19 | steps: 101 | max frontier: 17)\n",
      "Episode 9 - DEAD (len: 29 | steps: 176 | max frontier: 17)\n",
      "Episode 10 - DEAD (len: 15 | steps: 63 | max frontier: 16)\n",
      "\n",
      "[Summary]\n",
      "Average Length: 22.70\n",
      "Average Steps: 137.90\n",
      "\n",
      "Average Max Frontier: 17.20\n",
      "[22.7, 137.9, 17.2]\n"
     ]
    }
   ],
   "source": [
    "conf_astar = GameConf()\n",
    "conf_astar.solver_name = dict_solver['astar']\n",
    "conf_astar.mode = dict_mode['bcmk']\n",
    "print(\"Solver: %s    Mode: %s\" % (conf_astar.solver_name, conf_astar.mode))\n",
    "\n",
    "result_astar = Game(conf_astar).run()\n",
    "print(result_astar)\n",
    "\n",
    "conf_greedy = GameConf()\n",
    "conf_greedy.solver_name = dict_solver['greedy']\n",
    "conf_greedy.mode = dict_mode['bcmk']\n",
    "print(\"Solver: %s    Mode: %s\" % (conf_greedy.solver_name, conf_greedy.mode))\n",
    "\n",
    "result_greedy = Game(conf_greedy).run()\n",
    "print(result_greedy)\n"
   ]
  },
  {
   "cell_type": "code",
   "execution_count": 2,
   "metadata": {},
   "outputs": [
    {
     "name": "stdout",
     "output_type": "stream",
     "text": [
      "Solver: AStarSolver    Mode: GameMode.BENCHMARK\n",
      "\n",
      "Map size: 10x10\n",
      "Solver: astar\n",
      "\n",
      "Episode 1 - STEP LIMIT (len: 97 | steps: 5000 | max frontier: 21)\n",
      "Episode 2 - DEAD (len: 91 | steps: 1264 | max frontier: 27)\n",
      "Episode 3 - DEAD (len: 98 | steps: 1606 | max frontier: 22)\n",
      "Episode 4 - DEAD (len: 84 | steps: 1295 | max frontier: 24)\n",
      "Episode 5 - STEP LIMIT (len: 97 | steps: 5000 | max frontier: 20)\n",
      "Episode 6 - FULL (len: 100 | steps: 1989 | max frontier: 21)\n",
      "Episode 7 - DEAD (len: 94 | steps: 1510 | max frontier: 19)\n",
      "Episode 8 - FULL (len: 100 | steps: 1449 | max frontier: 21)\n",
      "Episode 9 - DEAD (len: 94 | steps: 1554 | max frontier: 23)\n",
      "Episode 10 - DEAD (len: 98 | steps: 1928 | max frontier: 20)\n",
      "\n",
      "[Summary]\n",
      "Average Length: 95.30\n",
      "Average Steps: 2259.50\n",
      "\n",
      "Average Max Frontier: 21.80\n",
      "[95.3, 2259.5, 21.8]\n",
      "Solver: GreedySolver    Mode: GameMode.BENCHMARK\n",
      "{'_map': <snake.base.map.Map object at 0x000001CAB372DC70>, '_init_direc': <Direc.RIGHT: 3>, '_init_bodies': [Pos(1,4), Pos(1,3), Pos(1,2), Pos(1,1)], '_init_types': [<PointType.HEAD_R: 102>, <PointType.BODY_HOR: 108>, <PointType.BODY_HOR: 108>, <PointType.BODY_HOR: 108>], '_steps': 0, '_maxfrontier': 0, '_dead': False, '_direc': <Direc.RIGHT: 3>, '_direc_next': <Direc.NONE: 0>, '_bodies': deque([Pos(1,4), Pos(1,3), Pos(1,2), Pos(1,1)])}\n",
      "\n",
      "Map size: 10x10\n",
      "Solver: greedy\n",
      "\n",
      "Episode 1 - DEAD (len: 99 | steps: 1900 | max frontier: 16)\n",
      "Episode 2 - DEAD (len: 96 | steps: 1271 | max frontier: 18)\n",
      "Episode 3 - DEAD (len: 96 | steps: 1572 | max frontier: 17)\n",
      "Episode 4 - STEP LIMIT (len: 97 | steps: 5000 | max frontier: 17)\n",
      "Episode 5 - FULL (len: 100 | steps: 1499 | max frontier: 19)\n",
      "Episode 6 - FULL (len: 100 | steps: 1693 | max frontier: 15)\n",
      "Episode 7 - DEAD (len: 55 | steps: 577 | max frontier: 17)\n",
      "Episode 8 - DEAD (len: 94 | steps: 1764 | max frontier: 17)\n",
      "Episode 9 - DEAD (len: 50 | steps: 450 | max frontier: 18)\n",
      "Episode 10 - DEAD (len: 98 | steps: 1546 | max frontier: 18)\n",
      "\n",
      "[Summary]\n",
      "Average Length: 88.50\n",
      "Average Steps: 1727.20\n",
      "\n",
      "Average Max Frontier: 17.20\n",
      "[88.5, 1727.2, 17.2]\n"
     ]
    }
   ],
   "source": [
    "# Re-running all the code above but with optimized code un-commented (astar.py and greedy.py)\n",
    "\n",
    "conf_astar_opt = GameConf()\n",
    "conf_astar_opt.solver_name = dict_solver['astar']\n",
    "conf_astar_opt.mode = dict_mode['bcmk']\n",
    "print(\"Solver: %s    Mode: %s\" % (conf_astar_opt.solver_name, conf_astar_opt.mode))\n",
    "\n",
    "result_astar_opt = Game(conf_astar_opt).run()\n",
    "print(result_astar_opt)\n",
    "\n",
    "conf_greedy_opt = GameConf()\n",
    "conf_greedy_opt.solver_name = dict_solver['greedy']\n",
    "conf_greedy_opt.mode = dict_mode['bcmk']\n",
    "print(\"Solver: %s    Mode: %s\" % (conf_greedy_opt.solver_name, conf_greedy_opt.mode))\n",
    "\n",
    "result_greedy_opt = Game(conf_greedy_opt).run()\n",
    "print(result_greedy_opt)"
   ]
  },
  {
   "cell_type": "code",
   "execution_count": 3,
   "metadata": {},
   "outputs": [
    {
     "name": "stdout",
     "output_type": "stream",
     "text": [
      "Solver: HamiltonSolver    Mode: GameMode.BENCHMARK\n",
      "\n",
      "Map size: 10x10\n",
      "Solver: hamilton\n",
      "\n",
      "Episode 1 - FULL (len: 100 | steps: 1703 | max frontier: 16)\n",
      "Episode 2 - FULL (len: 100 | steps: 1785 | max frontier: 15)\n",
      "Episode 3 - FULL (len: 100 | steps: 1835 | max frontier: 16)\n",
      "Episode 4 - FULL (len: 100 | steps: 1714 | max frontier: 16)\n",
      "Episode 5 - FULL (len: 100 | steps: 1518 | max frontier: 18)\n",
      "Episode 6 - FULL (len: 100 | steps: 1741 | max frontier: 18)\n",
      "Episode 7 - FULL (len: 100 | steps: 1657 | max frontier: 14)\n",
      "Episode 8 - FULL (len: 100 | steps: 1651 | max frontier: 16)\n",
      "Episode 9 - FULL (len: 100 | steps: 1753 | max frontier: 15)\n",
      "Episode 10 - FULL (len: 100 | steps: 1675 | max frontier: 17)\n",
      "\n",
      "[Summary]\n",
      "Average Length: 100.00\n",
      "Average Steps: 1703.20\n",
      "\n",
      "Average Max Frontier: 16.10\n",
      "[100.0, 1703.2, 16.1]\n"
     ]
    }
   ],
   "source": [
    "conf_hamilton = GameConf()\n",
    "conf_hamilton.solver_name = dict_solver['hamilton']\n",
    "conf_hamilton.mode = dict_mode['bcmk']\n",
    "print(\"Solver: %s    Mode: %s\" % (conf_hamilton.solver_name, conf_hamilton.mode))\n",
    "\n",
    "result_hamilton = Game(conf_hamilton).run()\n",
    "print(result_hamilton)"
   ]
  },
  {
   "cell_type": "code",
   "execution_count": 5,
   "metadata": {},
   "outputs": [],
   "source": [
    "result_greedy = [22.7, 137.9, 17.2]\n",
    "result_astar = [26.1, 164.3, 21.4]"
   ]
  },
  {
   "cell_type": "code",
   "execution_count": 17,
   "metadata": {},
   "outputs": [
    {
     "data": {
      "image/png": "[encoded data removed]",
      "text/plain": [
       "<Figure size 432x288 with 1 Axes>"
      ]
     },
     "metadata": {
      "needs_background": "light"
     },
     "output_type": "display_data"
    }
   ],
   "source": [
    "import matplotlib.pyplot as plt\n",
    "import numpy as np\n",
    "\n",
    "x_labels = ['Greedy BFS', 'A*', 'Opt BFS', 'Opt A*', 'Hamiltonian']\n",
    "size = [result_greedy[0], result_astar[0], result_greedy_opt[0], result_astar_opt[0], result_hamilton[0]]\n",
    "steps = [result_greedy[1], result_astar[1], result_greedy_opt[1], result_astar_opt[1], result_hamilton[1]]\n",
    "frontier = [result_greedy[2], result_astar[2], result_greedy_opt[2], result_astar_opt[2], result_hamilton[2]]\n",
    "width = 0.25  # the width of the bars\n",
    "r1 = np.arange(len(size))\n",
    "# r2 = [x + width for x in r1]\n",
    "r3 = [x + width for x in r1]\n",
    "fig, ax = plt.subplots()\n",
    "# Make the plot\n",
    "plt.bar(r1, size, color='#7f6d5f', width=width, edgecolor='white', label='Avg Size of Snake')\n",
    "# plt.bar(r2, steps, color='#557f2d', width=width, edgecolor='white', label='Avg Steps')\n",
    "plt.bar(r3, frontier, color='#2d7f5e', width=width, edgecolor='white', label='Max Frontier Size')\n",
    "# Add xticks on the middle of the group bars\n",
    "plt.xlabel('Search Algorithms', fontweight='bold')\n",
    "plt.ylabel('Value', fontweight='bold')\n",
    "plt.xticks(np.arange(len(x_labels)), x_labels)\n",
    "# Create legend & Show graphic\n",
    "plt.legend()\n",
    "plt.show()\n",
    "\n",
    "plt.show()"
   ]
  },
  {
   "cell_type": "code",
   "execution_count": 16,
   "metadata": {},
   "outputs": [
    {
     "data": {
      "image/png": "[encoded data removed]",
      "text/plain": [
       "<Figure size 432x288 with 1 Axes>"
      ]
     },
     "metadata": {
      "needs_background": "light"
     },
     "output_type": "display_data"
    }
   ],
   "source": [
    "x_labels = ['Greedy BFS', 'A*', 'Opt BFS', 'Opt A*', 'Hamiltonian']\n",
    "steps = [result_greedy[1], result_astar[1], result_greedy_opt[1], result_astar_opt[1], result_hamilton[1]]\n",
    "width = 0.33  # the width of the bars\n",
    "r2 = np.arange(len(size))\n",
    "fig, ax = plt.subplots()\n",
    "# Make the plot\n",
    "plt.bar(r2, steps, color='#557f2d', width=width, edgecolor='white', label='Avg Steps')\n",
    "# Add xticks on the middle of the group bars\n",
    "plt.xlabel('Search Algorithms', fontweight='bold')\n",
    "plt.ylabel('Number of Steps', fontweight='bold')\n",
    "plt.xticks(np.arange(len(x_labels)), x_labels)\n",
    "# Create legend & Show graphic\n",
    "plt.legend()\n",
    "plt.show()\n",
    "\n",
    "plt.show()"
   ]
  }
 ],
 "metadata": {
  "interpreter": {
   "hash": "1baa965d5efe3ac65b79dfc60c0d706280b1da80fedb7760faf2759126c4f253"
  },
  "kernelspec": {
   "display_name": "Python 3.8.5 64-bit",
   "language": "python",
   "name": "python3"
  },
  "language_info": {
   "codemirror_mode": {
    "name": "ipython",
    "version": 3
   },
   "file_extension": ".py",
   "mimetype": "text/x-python",
   "name": "python",
   "nbconvert_exporter": "python",
   "pygments_lexer": "ipython3",
   "version": "3.8.5"
  },
  "orig_nbformat": 4
 },
 "nbformat": 4,
 "nbformat_minor": 2
}
